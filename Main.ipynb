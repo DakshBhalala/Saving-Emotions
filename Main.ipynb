{
 "cells": [
  {
   "cell_type": "markdown",
   "metadata": {},
   "source": [
    "## Modules and model"
   ]
  },
  {
   "cell_type": "markdown",
   "metadata": {},
   "source": [
    "### Importing module"
   ]
  },
  {
   "cell_type": "code",
   "execution_count": 28,
   "metadata": {},
   "outputs": [],
   "source": [
    "import matplotlib.pyplot as plt\n",
    "from sklearn.feature_extraction.text import TfidfVectorizer\n",
    "from sklearn.naive_bayes import MultinomialNB\n",
    "from sklearn.metrics import accuracy_score\n",
    "from sklearn.model_selection import train_test_split\n",
    "from transformers import pipeline"
   ]
  },
  {
   "cell_type": "markdown",
   "metadata": {},
   "source": [
    "### Pipeline 'text-classification' model by hugging face"
   ]
  },
  {
   "cell_type": "code",
   "execution_count": 29,
   "metadata": {},
   "outputs": [
    {
     "name": "stderr",
     "output_type": "stream",
     "text": [
      "No model was supplied, defaulted to distilbert/distilbert-base-uncased-finetuned-sst-2-english and revision af0f99b (https://huggingface.co/distilbert/distilbert-base-uncased-finetuned-sst-2-english).\n",
      "Using a pipeline without specifying a model name and revision in production is not recommended.\n",
      "All PyTorch model weights were used when initializing TFDistilBertForSequenceClassification.\n",
      "\n",
      "All the weights of TFDistilBertForSequenceClassification were initialized from the PyTorch model.\n",
      "If your task is similar to the task the model of the checkpoint was trained on, you can already use TFDistilBertForSequenceClassification for predictions without further training.\n"
     ]
    }
   ],
   "source": [
    "pipe = pipeline(\"text-classification\")"
   ]
  },
  {
   "cell_type": "markdown",
   "metadata": {},
   "source": [
    "### Dataset for training"
   ]
  },
  {
   "cell_type": "code",
   "execution_count": 30,
   "metadata": {},
   "outputs": [],
   "source": [
    "X = [\n",
    "    'this movie was great!',\n",
    "    'the plot was boring and predictable.',\n",
    "    'the acting was superb.',\n",
    "    'i would not recommend this movie.',\n",
    "    'the soundtrack was amazing.',\n",
    "    'this movie was terrible.',\n",
    "    'the plot was engaging and kept me hooked.',\n",
    "    'the acting was subpar.',\n",
    "    'i highly recommend this movie.',\n",
    "    'the direction was sloppy.',\n",
    "    'the cinematography was beautiful.',\n",
    "    'the script was poorly written.',\n",
    "    'the performances were lackluster.',\n",
    "    'i loved this film.',\n",
    "    'the special effects were impressive.',\n",
    "    'the storyline was captivating.',\n",
    "    'the characters were well-developed.',\n",
    "    'i couldn\\'t take my eyes off the screen.',\n",
    "    'the pacing was off.',\n",
    "    'i was disappointed by the lack of depth.',\n",
    "    'the movie had me on the edge of my seat.',\n",
    "    'the dialogues felt forced.',\n",
    "    'i was pleasantly surprised.',\n",
    "    'the ending was satisfying.',\n",
    "    'the visuals were stunning.',\n",
    "    'the pacing was perfect.',\n",
    "    'i was blown away by the performances.',\n",
    "    'the humor in the movie was great.',\n",
    "    'i couldn\\'t stop laughing.',\n",
    "    'the themes explored were thought-provoking.',\n",
    "]\n",
    "\n",
    "y = ['positive', 'negative', 'positive', 'negative', 'positive',\n",
    "    'negative', 'positive', 'negative', 'positive', 'negative',\n",
    "    'positive', 'negative', 'negative', 'positive', 'positive',\n",
    "    'positive', 'positive', 'positive', 'negative', 'negative',\n",
    "    'positive', 'negative', 'positive', 'positive', 'positive',\n",
    "    'negative', 'positive', 'positive', 'positive', 'negative']"
   ]
  },
  {
   "cell_type": "markdown",
   "metadata": {},
   "source": [
    "## Training"
   ]
  },
  {
   "cell_type": "markdown",
   "metadata": {},
   "source": [
    "### Filtering dataset"
   ]
  },
  {
   "cell_type": "code",
   "execution_count": 31,
   "metadata": {},
   "outputs": [],
   "source": [
    "X_train, X_test, y_train, y_test = train_test_split(X, y, test_size=0.2, random_state=42)\n",
    "\n",
    "\n",
    "# Vectorize the text using TF-IDF\n",
    "vectorizer = TfidfVectorizer()\n",
    "X_train_tfidf = vectorizer.fit_transform(X_train)\n",
    "X_test_tfidf = vectorizer.transform(X_test)\n",
    "\n",
    "# Train the classifier (Multinomial Naive Bayes)\n",
    "clf = MultinomialNB()\n",
    "\n",
    "train_accuracy = []\n",
    "test_accuracy = []"
   ]
  },
  {
   "cell_type": "markdown",
   "metadata": {},
   "source": [
    "### Training of model"
   ]
  },
  {
   "cell_type": "code",
   "execution_count": 32,
   "metadata": {},
   "outputs": [],
   "source": [
    "num_iterations = 10\n",
    "for i in range(num_iterations):\n",
    "    clf.fit(X_train_tfidf, y_train)\n",
    "\n",
    "    train_predictions = clf.predict(X_train_tfidf)\n",
    "    test_predictions = clf.predict(X_test_tfidf)\n",
    "\n",
    "    train_accuracy.append(accuracy_score(y_train, train_predictions))\n",
    "    test_accuracy.append(accuracy_score(y_test, test_predictions))"
   ]
  },
  {
   "cell_type": "markdown",
   "metadata": {},
   "source": [
    "### Visualization of model"
   ]
  },
  {
   "cell_type": "code",
   "execution_count": 33,
   "metadata": {},
   "outputs": [
    {
     "data": {
      "image/png": "[encoded data removed]",
      "text/plain": [
       "<Figure size 800x600 with 1 Axes>"
      ]
     },
     "metadata": {},
     "output_type": "display_data"
    }
   ],
   "source": [
    "plt.figure(figsize=(8, 6))\n",
    "plt.plot(range(1, num_iterations + 1), train_accuracy, label='Training Accuracy')\n",
    "plt.plot(range(1, num_iterations + 1), test_accuracy, label='Testing Accuracy')\n",
    "plt.xlabel('Iterations')\n",
    "plt.ylabel('Accuracy')\n",
    "plt.title('Accuracy Graph')\n",
    "plt.legend()\n",
    "plt.show()"
   ]
  },
  {
   "cell_type": "markdown",
   "metadata": {},
   "source": [
    "### Checking accuracy"
   ]
  },
  {
   "cell_type": "code",
   "execution_count": 34,
   "metadata": {},
   "outputs": [
    {
     "name": "stdout",
     "output_type": "stream",
     "text": [
      "Accuracy: 0.6666666666666666\n"
     ]
    }
   ],
   "source": [
    "accuracy_custom = clf.score(X_test_tfidf, y_test)\n",
    "print(f'Accuracy: {accuracy_custom}')"
   ]
  },
  {
   "cell_type": "markdown",
   "metadata": {},
   "source": [
    "## Example"
   ]
  },
  {
   "cell_type": "markdown",
   "metadata": {},
   "source": [
    "### Input data for prediction"
   ]
  },
  {
   "cell_type": "code",
   "execution_count": 35,
   "metadata": {},
   "outputs": [],
   "source": [
    "input_data = [\n",
    "    \"The acting was superb and captivating.\",\n",
    "    \"I highly recommend this movie to everyone!\",\n",
    "    \"The plot was engaging and kept me hooked until the end.\",\n",
    "    \"The soundtrack was amazing and added depth to the scenes.\",\n",
    "    \"The characters were well-developed and relatable.\",\n",
    "    \"The acting was terrible and ruined the movie.\",\n",
    "    \"I would not recommend this film to anyone.\",\n",
    "    \"The plot was confusing and hard to follow.\",\n",
    "    \"The special effects were disappointing and unrealistic.\",\n",
    "    \"Overall, a disappointing movie that failed to impress.\"\n",
    "]"
   ]
  },
  {
   "cell_type": "markdown",
   "metadata": {},
   "source": [
    "### Predict using custom model"
   ]
  },
  {
   "cell_type": "code",
   "execution_count": 36,
   "metadata": {},
   "outputs": [
    {
     "name": "stdout",
     "output_type": "stream",
     "text": [
      "Custom Model Predictions:\n",
      "Input: The acting was superb and captivating.\n",
      "Prediction: {'label': 'POSITIVE', 'score': 0.5891628759334891}\n",
      "\n",
      "Input: I highly recommend this movie to everyone!\n",
      "Prediction: {'label': 'NEGATIVE', 'score': 0.5462273361285483}\n",
      "\n",
      "Input: The plot was engaging and kept me hooked until the end.\n",
      "Prediction: {'label': 'POSITIVE', 'score': 0.6522014219493569}\n",
      "\n",
      "Input: The soundtrack was amazing and added depth to the scenes.\n",
      "Prediction: {'label': 'POSITIVE', 'score': 0.585746384941752}\n",
      "\n",
      "Input: The characters were well-developed and relatable.\n",
      "Prediction: {'label': 'POSITIVE', 'score': 0.6714809600117484}\n",
      "\n",
      "Input: The acting was terrible and ruined the movie.\n",
      "Prediction: {'label': 'NEGATIVE', 'score': 0.558910167419696}\n",
      "\n",
      "Input: I would not recommend this film to anyone.\n",
      "Prediction: {'label': 'NEGATIVE', 'score': 0.5615582181774045}\n",
      "\n",
      "Input: The plot was confusing and hard to follow.\n",
      "Prediction: {'label': 'POSITIVE', 'score': 0.5048994150772501}\n",
      "\n",
      "Input: The special effects were disappointing and unrealistic.\n",
      "Prediction: {'label': 'POSITIVE', 'score': 0.6419903749566405}\n",
      "\n",
      "Input: Overall, a disappointing movie that failed to impress.\n",
      "Prediction: {'label': 'POSITIVE', 'score': 0.5174556251631369}\n",
      "\n"
     ]
    }
   ],
   "source": [
    "input_data_reshaped = vectorizer.transform(input_data)\n",
    "\n",
    "predictions_custom = clf.predict_proba(input_data_reshaped)\n",
    "\n",
    "print('Custom Model Predictions:')\n",
    "for text, prediction in zip(input_data, predictions_custom):\n",
    "    predicted_label = 'NEGATIVE' if prediction[0] > prediction[1] else 'POSITIVE'\n",
    "    prediction_score = max(prediction)\n",
    "    print(f'Input: {text}')\n",
    "    print(f'Prediction: {{\\'label\\': \\'{predicted_label}\\', \\'score\\': {prediction_score}}}')\n",
    "    print()"
   ]
  },
  {
   "cell_type": "markdown",
   "metadata": {},
   "source": [
    "### Predict using pipeline model"
   ]
  },
  {
   "cell_type": "code",
   "execution_count": 37,
   "metadata": {},
   "outputs": [
    {
     "name": "stdout",
     "output_type": "stream",
     "text": [
      "Pipeline Model Predictions:\n",
      "Input: The acting was superb and captivating.\n",
      "Prediction: {'label': 'POSITIVE', 'score': 0.9998867511749268}\n",
      "\n",
      "Input: I highly recommend this movie to everyone!\n",
      "Prediction: {'label': 'POSITIVE', 'score': 0.999874472618103}\n",
      "\n",
      "Input: The plot was engaging and kept me hooked until the end.\n",
      "Prediction: {'label': 'POSITIVE', 'score': 0.9989327788352966}\n",
      "\n",
      "Input: The soundtrack was amazing and added depth to the scenes.\n",
      "Prediction: {'label': 'POSITIVE', 'score': 0.9998757839202881}\n",
      "\n",
      "Input: The characters were well-developed and relatable.\n",
      "Prediction: {'label': 'POSITIVE', 'score': 0.9983476400375366}\n",
      "\n",
      "Input: The acting was terrible and ruined the movie.\n",
      "Prediction: {'label': 'NEGATIVE', 'score': 0.9997909665107727}\n",
      "\n",
      "Input: I would not recommend this film to anyone.\n",
      "Prediction: {'label': 'POSITIVE', 'score': 0.8013373017311096}\n",
      "\n",
      "Input: The plot was confusing and hard to follow.\n",
      "Prediction: {'label': 'NEGATIVE', 'score': 0.9997655749320984}\n",
      "\n",
      "Input: The special effects were disappointing and unrealistic.\n",
      "Prediction: {'label': 'NEGATIVE', 'score': 0.9997567534446716}\n",
      "\n",
      "Input: Overall, a disappointing movie that failed to impress.\n",
      "Prediction: {'label': 'NEGATIVE', 'score': 0.9997938275337219}\n",
      "\n"
     ]
    }
   ],
   "source": [
    "predictions_pipeline = pipe(input_data)\n",
    "pipe([\"This restaurant is awesome\", \"This restaurant is awful\"])\n",
    "\n",
    "print('Pipeline Model Predictions:')\n",
    "for text, prediction in zip(input_data, predictions_pipeline):\n",
    "    print(f'Input: {text}')\n",
    "    print(f'Prediction: {prediction}')\n",
    "    print()"
   ]
  }
 ],
 "metadata": {
  "kernelspec": {
   "display_name": "base",
   "language": "python",
   "name": "python3"
  },
  "language_info": {
   "codemirror_mode": {
    "name": "ipython",
    "version": 3
   },
   "file_extension": ".py",
   "mimetype": "text/x-python",
   "name": "python",
   "nbconvert_exporter": "python",
   "pygments_lexer": "ipython3",
   "version": "3.11.7"
  }
 },
 "nbformat": 4,
 "nbformat_minor": 2
}
